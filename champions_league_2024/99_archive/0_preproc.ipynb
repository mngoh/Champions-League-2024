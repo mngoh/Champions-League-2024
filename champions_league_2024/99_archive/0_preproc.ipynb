{
 "cells": [
  {
   "attachments": {},
   "cell_type": "markdown",
   "metadata": {},
   "source": [
    "# Title: Champions League Data Scrape and Analysis\n",
    "## Author: Martin Ngoh \n",
    "### Date: 05/10/2024"
   ]
  },
  {
   "cell_type": "code",
   "execution_count": 112,
   "metadata": {},
   "outputs": [],
   "source": [
    "# Load Libraries\n",
    "import pandas as pd\n",
    "import numpy as np \n",
    "import re"
   ]
  },
  {
   "cell_type": "code",
   "execution_count": 113,
   "metadata": {},
   "outputs": [],
   "source": [
    "# Load Data \n",
    "df = pd.read_csv('champs.csv')"
   ]
  },
  {
   "cell_type": "code",
   "execution_count": 114,
   "metadata": {},
   "outputs": [
    {
     "data": {
      "text/html": [
       "<div>\n",
       "<style scoped>\n",
       "    .dataframe tbody tr th:only-of-type {\n",
       "        vertical-align: middle;\n",
       "    }\n",
       "\n",
       "    .dataframe tbody tr th {\n",
       "        vertical-align: top;\n",
       "    }\n",
       "\n",
       "    .dataframe thead th {\n",
       "        text-align: right;\n",
       "    }\n",
       "</style>\n",
       "<table border=\"1\" class=\"dataframe\">\n",
       "  <thead>\n",
       "    <tr style=\"text-align: right;\">\n",
       "      <th></th>\n",
       "      <th>Stage</th>\n",
       "      <th>Round</th>\n",
       "      <th>Group</th>\n",
       "      <th>Date</th>\n",
       "      <th>Team 1</th>\n",
       "      <th>FT</th>\n",
       "      <th>HT</th>\n",
       "      <th>Team 2</th>\n",
       "      <th>∑FT</th>\n",
       "      <th>ET</th>\n",
       "      <th>P</th>\n",
       "      <th>Comments</th>\n",
       "    </tr>\n",
       "  </thead>\n",
       "  <tbody>\n",
       "    <tr>\n",
       "      <th>0</th>\n",
       "      <td>Qualifying</td>\n",
       "      <td>Qual. Round 1 | Leg 1</td>\n",
       "      <td>NaN</td>\n",
       "      <td>(Tue) 15 Jul 2008 (W28)</td>\n",
       "      <td>Inter Baku PIK › AZE (1)</td>\n",
       "      <td>0-0</td>\n",
       "      <td>0-0</td>\n",
       "      <td>Rabotnicki › MKD (1)</td>\n",
       "      <td>NaN</td>\n",
       "      <td>NaN</td>\n",
       "      <td>NaN</td>\n",
       "      <td>NaN</td>\n",
       "    </tr>\n",
       "    <tr>\n",
       "      <th>1</th>\n",
       "      <td>Qualifying</td>\n",
       "      <td>Qual. Round 1 | Leg 1</td>\n",
       "      <td>NaN</td>\n",
       "      <td>(Tue) 15 Jul 2008 (W28)</td>\n",
       "      <td>Anorthosis Famagusta › CYP (1)</td>\n",
       "      <td>1-0</td>\n",
       "      <td>0-0</td>\n",
       "      <td>Pyunik › ARM (1)</td>\n",
       "      <td>NaN</td>\n",
       "      <td>NaN</td>\n",
       "      <td>NaN</td>\n",
       "      <td>NaN</td>\n",
       "    </tr>\n",
       "  </tbody>\n",
       "</table>\n",
       "</div>"
      ],
      "text/plain": [
       "        Stage                  Round Group                     Date   \n",
       "0  Qualifying  Qual. Round 1 | Leg 1   NaN  (Tue) 15 Jul 2008 (W28)  \\\n",
       "1  Qualifying  Qual. Round 1 | Leg 1   NaN  (Tue) 15 Jul 2008 (W28)   \n",
       "\n",
       "                           Team 1   FT   HT                Team 2  ∑FT   ET   \n",
       "0        Inter Baku PIK › AZE (1)  0-0  0-0  Rabotnicki › MKD (1)  NaN  NaN  \\\n",
       "1  Anorthosis Famagusta › CYP (1)  1-0  0-0      Pyunik › ARM (1)  NaN  NaN   \n",
       "\n",
       "     P Comments  \n",
       "0  NaN      NaN  \n",
       "1  NaN      NaN  "
      ]
     },
     "execution_count": 114,
     "metadata": {},
     "output_type": "execute_result"
    }
   ],
   "source": [
    "# Head of Df \n",
    "df.head(2)"
   ]
  },
  {
   "cell_type": "code",
   "execution_count": 115,
   "metadata": {},
   "outputs": [
    {
     "name": "stdout",
     "output_type": "stream",
     "text": [
      "<class 'pandas.core.frame.DataFrame'>\n",
      "RangeIndex: 213 entries, 0 to 212\n",
      "Data columns (total 12 columns):\n",
      " #   Column    Non-Null Count  Dtype \n",
      "---  ------    --------------  ----- \n",
      " 0   Stage     213 non-null    object\n",
      " 1   Round     213 non-null    object\n",
      " 2   Group     96 non-null     object\n",
      " 3   Date      213 non-null    object\n",
      " 4   Team 1    213 non-null    object\n",
      " 5   FT        213 non-null    object\n",
      " 6   HT        213 non-null    object\n",
      " 7   Team 2    213 non-null    object\n",
      " 8   ∑FT       58 non-null     object\n",
      " 9   ET        2 non-null      object\n",
      " 10  P         1 non-null      object\n",
      " 11  Comments  4 non-null      object\n",
      "dtypes: object(12)\n",
      "memory usage: 20.1+ KB\n"
     ]
    }
   ],
   "source": [
    "# Info \n",
    "df.info()"
   ]
  },
  {
   "cell_type": "code",
   "execution_count": 116,
   "metadata": {},
   "outputs": [],
   "source": [
    "# Subset the Columns \n",
    "df = df[['Stage', 'Date', 'Team 1', 'Team 2', 'FT', 'HT']]"
   ]
  },
  {
   "cell_type": "code",
   "execution_count": 117,
   "metadata": {},
   "outputs": [
    {
     "data": {
      "text/html": [
       "<div>\n",
       "<style scoped>\n",
       "    .dataframe tbody tr th:only-of-type {\n",
       "        vertical-align: middle;\n",
       "    }\n",
       "\n",
       "    .dataframe tbody tr th {\n",
       "        vertical-align: top;\n",
       "    }\n",
       "\n",
       "    .dataframe thead th {\n",
       "        text-align: right;\n",
       "    }\n",
       "</style>\n",
       "<table border=\"1\" class=\"dataframe\">\n",
       "  <thead>\n",
       "    <tr style=\"text-align: right;\">\n",
       "      <th></th>\n",
       "      <th>Stage</th>\n",
       "      <th>Date</th>\n",
       "      <th>Team 1</th>\n",
       "      <th>Team 2</th>\n",
       "      <th>FT</th>\n",
       "      <th>HT</th>\n",
       "    </tr>\n",
       "  </thead>\n",
       "  <tbody>\n",
       "    <tr>\n",
       "      <th>0</th>\n",
       "      <td>Qualifying</td>\n",
       "      <td>(Tue) 15 Jul 2008 (W28)</td>\n",
       "      <td>Inter Baku PIK › AZE (1)</td>\n",
       "      <td>Rabotnicki › MKD (1)</td>\n",
       "      <td>0-0</td>\n",
       "      <td>0-0</td>\n",
       "    </tr>\n",
       "    <tr>\n",
       "      <th>1</th>\n",
       "      <td>Qualifying</td>\n",
       "      <td>(Tue) 15 Jul 2008 (W28)</td>\n",
       "      <td>Anorthosis Famagusta › CYP (1)</td>\n",
       "      <td>Pyunik › ARM (1)</td>\n",
       "      <td>1-0</td>\n",
       "      <td>0-0</td>\n",
       "    </tr>\n",
       "  </tbody>\n",
       "</table>\n",
       "</div>"
      ],
      "text/plain": [
       "        Stage                     Date                          Team 1   \n",
       "0  Qualifying  (Tue) 15 Jul 2008 (W28)        Inter Baku PIK › AZE (1)  \\\n",
       "1  Qualifying  (Tue) 15 Jul 2008 (W28)  Anorthosis Famagusta › CYP (1)   \n",
       "\n",
       "                 Team 2   FT   HT  \n",
       "0  Rabotnicki › MKD (1)  0-0  0-0  \n",
       "1      Pyunik › ARM (1)  1-0  0-0  "
      ]
     },
     "execution_count": 117,
     "metadata": {},
     "output_type": "execute_result"
    }
   ],
   "source": [
    "# Head of DF \n",
    "df.head(2)"
   ]
  },
  {
   "attachments": {},
   "cell_type": "markdown",
   "metadata": {},
   "source": [
    "## Date Column "
   ]
  },
  {
   "cell_type": "code",
   "execution_count": 118,
   "metadata": {},
   "outputs": [],
   "source": [
    "# Do Some Processing of the Date Column. \n",
    "df['Date'] = df['Date'].apply(lambda x: re.sub(r'\\(W[1-9][0-9]?\\)', '', x))\n",
    "df['Date'] = df['Date'].apply(lambda x: re.sub(r'\\((Tue|Wed)\\)', '', x))"
   ]
  },
  {
   "cell_type": "code",
   "execution_count": 119,
   "metadata": {},
   "outputs": [
    {
     "data": {
      "text/plain": [
       "0     15 Jul 2008 \n",
       "1     15 Jul 2008 \n",
       "Name: Date, dtype: object"
      ]
     },
     "execution_count": 119,
     "metadata": {},
     "output_type": "execute_result"
    }
   ],
   "source": [
    "# Now Look at the date column \n",
    "df['Date'][:2]"
   ]
  },
  {
   "cell_type": "code",
   "execution_count": 120,
   "metadata": {},
   "outputs": [
    {
     "data": {
      "text/plain": [
       "0   2008-07-15\n",
       "Name: Date, dtype: datetime64[ns]"
      ]
     },
     "execution_count": 120,
     "metadata": {},
     "output_type": "execute_result"
    }
   ],
   "source": [
    "# Transform the Column into Numeric Date \n",
    "df['Date'] = pd.to_datetime(df['Date'])\n",
    "df['Date'][:1]"
   ]
  },
  {
   "cell_type": "code",
   "execution_count": 121,
   "metadata": {},
   "outputs": [
    {
     "data": {
      "text/html": [
       "<div>\n",
       "<style scoped>\n",
       "    .dataframe tbody tr th:only-of-type {\n",
       "        vertical-align: middle;\n",
       "    }\n",
       "\n",
       "    .dataframe tbody tr th {\n",
       "        vertical-align: top;\n",
       "    }\n",
       "\n",
       "    .dataframe thead th {\n",
       "        text-align: right;\n",
       "    }\n",
       "</style>\n",
       "<table border=\"1\" class=\"dataframe\">\n",
       "  <thead>\n",
       "    <tr style=\"text-align: right;\">\n",
       "      <th></th>\n",
       "      <th>Stage</th>\n",
       "      <th>Date</th>\n",
       "      <th>Team 1</th>\n",
       "      <th>Team 2</th>\n",
       "      <th>FT</th>\n",
       "      <th>HT</th>\n",
       "    </tr>\n",
       "  </thead>\n",
       "  <tbody>\n",
       "    <tr>\n",
       "      <th>0</th>\n",
       "      <td>Qualifying</td>\n",
       "      <td>2008-07-15</td>\n",
       "      <td>Inter Baku PIK › AZE (1)</td>\n",
       "      <td>Rabotnicki › MKD (1)</td>\n",
       "      <td>0-0</td>\n",
       "      <td>0-0</td>\n",
       "    </tr>\n",
       "    <tr>\n",
       "      <th>1</th>\n",
       "      <td>Qualifying</td>\n",
       "      <td>2008-07-15</td>\n",
       "      <td>Anorthosis Famagusta › CYP (1)</td>\n",
       "      <td>Pyunik › ARM (1)</td>\n",
       "      <td>1-0</td>\n",
       "      <td>0-0</td>\n",
       "    </tr>\n",
       "  </tbody>\n",
       "</table>\n",
       "</div>"
      ],
      "text/plain": [
       "        Stage       Date                          Team 1   \n",
       "0  Qualifying 2008-07-15        Inter Baku PIK › AZE (1)  \\\n",
       "1  Qualifying 2008-07-15  Anorthosis Famagusta › CYP (1)   \n",
       "\n",
       "                 Team 2   FT   HT  \n",
       "0  Rabotnicki › MKD (1)  0-0  0-0  \n",
       "1      Pyunik › ARM (1)  1-0  0-0  "
      ]
     },
     "execution_count": 121,
     "metadata": {},
     "output_type": "execute_result"
    }
   ],
   "source": [
    "# Look at df \n",
    "df.head(2)"
   ]
  },
  {
   "attachments": {},
   "cell_type": "markdown",
   "metadata": {},
   "source": [
    "## Stage Column"
   ]
  },
  {
   "cell_type": "code",
   "execution_count": 122,
   "metadata": {},
   "outputs": [
    {
     "data": {
      "text/plain": [
       "Stage\n",
       "Group         96\n",
       "Qualifying    88\n",
       "Knockout      29\n",
       "Name: count, dtype: int64"
      ]
     },
     "execution_count": 122,
     "metadata": {},
     "output_type": "execute_result"
    }
   ],
   "source": [
    "# Print Stage Values\n",
    "df['Stage'].value_counts()"
   ]
  },
  {
   "cell_type": "code",
   "execution_count": 123,
   "metadata": {},
   "outputs": [],
   "source": [
    "# Do Mappings for Values \n",
    "stage_map = {\n",
    "    'Group':1, \n",
    "    'Qualifying':2,\n",
    "    'Knockout':3\n",
    "}\n",
    "df['Stage'] = df['Stage'].map(stage_map)"
   ]
  },
  {
   "cell_type": "code",
   "execution_count": 124,
   "metadata": {},
   "outputs": [
    {
     "data": {
      "text/plain": [
       "Stage\n",
       "1    96\n",
       "2    88\n",
       "3    29\n",
       "Name: count, dtype: int64"
      ]
     },
     "execution_count": 124,
     "metadata": {},
     "output_type": "execute_result"
    }
   ],
   "source": [
    "# Look at Stage Column \n",
    "df['Stage'].value_counts()"
   ]
  },
  {
   "cell_type": "code",
   "execution_count": 125,
   "metadata": {},
   "outputs": [
    {
     "data": {
      "text/html": [
       "<div>\n",
       "<style scoped>\n",
       "    .dataframe tbody tr th:only-of-type {\n",
       "        vertical-align: middle;\n",
       "    }\n",
       "\n",
       "    .dataframe tbody tr th {\n",
       "        vertical-align: top;\n",
       "    }\n",
       "\n",
       "    .dataframe thead th {\n",
       "        text-align: right;\n",
       "    }\n",
       "</style>\n",
       "<table border=\"1\" class=\"dataframe\">\n",
       "  <thead>\n",
       "    <tr style=\"text-align: right;\">\n",
       "      <th></th>\n",
       "      <th>Stage</th>\n",
       "      <th>Date</th>\n",
       "      <th>Team 1</th>\n",
       "      <th>Team 2</th>\n",
       "      <th>FT</th>\n",
       "      <th>HT</th>\n",
       "    </tr>\n",
       "  </thead>\n",
       "  <tbody>\n",
       "    <tr>\n",
       "      <th>0</th>\n",
       "      <td>2</td>\n",
       "      <td>2008-07-15</td>\n",
       "      <td>Inter Baku PIK › AZE (1)</td>\n",
       "      <td>Rabotnicki › MKD (1)</td>\n",
       "      <td>0-0</td>\n",
       "      <td>0-0</td>\n",
       "    </tr>\n",
       "    <tr>\n",
       "      <th>1</th>\n",
       "      <td>2</td>\n",
       "      <td>2008-07-15</td>\n",
       "      <td>Anorthosis Famagusta › CYP (1)</td>\n",
       "      <td>Pyunik › ARM (1)</td>\n",
       "      <td>1-0</td>\n",
       "      <td>0-0</td>\n",
       "    </tr>\n",
       "  </tbody>\n",
       "</table>\n",
       "</div>"
      ],
      "text/plain": [
       "   Stage       Date                          Team 1                Team 2   \n",
       "0      2 2008-07-15        Inter Baku PIK › AZE (1)  Rabotnicki › MKD (1)  \\\n",
       "1      2 2008-07-15  Anorthosis Famagusta › CYP (1)      Pyunik › ARM (1)   \n",
       "\n",
       "    FT   HT  \n",
       "0  0-0  0-0  \n",
       "1  1-0  0-0  "
      ]
     },
     "execution_count": 125,
     "metadata": {},
     "output_type": "execute_result"
    }
   ],
   "source": [
    "# Look at df \n",
    "df.head(2)"
   ]
  },
  {
   "attachments": {},
   "cell_type": "markdown",
   "metadata": {},
   "source": [
    "## Team 1 and Team 1 "
   ]
  },
  {
   "cell_type": "code",
   "execution_count": 126,
   "metadata": {},
   "outputs": [
    {
     "data": {
      "text/plain": [
       "0    Inter Baku PIK › AZE (1)\n",
       "Name: Team 1, dtype: object"
      ]
     },
     "execution_count": 126,
     "metadata": {},
     "output_type": "execute_result"
    }
   ],
   "source": [
    "# Print team1 and 2 \n",
    "df['Team 1'][:1]"
   ]
  },
  {
   "cell_type": "code",
   "execution_count": 127,
   "metadata": {},
   "outputs": [],
   "source": [
    "# Remove Last 10 characters\n",
    "df['Team 1'] = df['Team 1'].apply(lambda x: x[:-10])\n",
    "df['Team 2'] = df['Team 2'].apply(lambda x: x[:-10])\n"
   ]
  },
  {
   "attachments": {},
   "cell_type": "markdown",
   "metadata": {},
   "source": [
    "## Look at the FT and HT Columns "
   ]
  },
  {
   "cell_type": "code",
   "execution_count": 128,
   "metadata": {},
   "outputs": [
    {
     "data": {
      "text/plain": [
       "0    0-0\n",
       "1    1-0\n",
       "Name: FT, dtype: object"
      ]
     },
     "execution_count": 128,
     "metadata": {},
     "output_type": "execute_result"
    }
   ],
   "source": [
    "# FT \n",
    "df['FT'][:2]"
   ]
  },
  {
   "cell_type": "code",
   "execution_count": 129,
   "metadata": {},
   "outputs": [],
   "source": [
    "# Split them up to create fulltime team 1 score, full time team 2 score \n",
    "df['ft_t1_gls'] = df['FT'].apply(lambda x: x[0] if isinstance(x, str) and len(x) > 0 else x)\n",
    "df['ft_t2_gls'] = df['FT'].apply(lambda x: x[-1] if isinstance(x, str) and len(x) > 0 else x)"
   ]
  },
  {
   "cell_type": "code",
   "execution_count": 130,
   "metadata": {},
   "outputs": [],
   "source": [
    "# Do the Same for the HT\n",
    "df['ht_t1_gls'] = df['HT'].apply(lambda x: int(x[0]) if isinstance(x, str) and len(x) > 0 else x)\n",
    "df['ht_t2_gls'] = df['HT'].apply(lambda x: int(x[-1]) if isinstance(x, str) and len(x) > 0 else x)"
   ]
  },
  {
   "cell_type": "code",
   "execution_count": 131,
   "metadata": {},
   "outputs": [
    {
     "data": {
      "text/html": [
       "<div>\n",
       "<style scoped>\n",
       "    .dataframe tbody tr th:only-of-type {\n",
       "        vertical-align: middle;\n",
       "    }\n",
       "\n",
       "    .dataframe tbody tr th {\n",
       "        vertical-align: top;\n",
       "    }\n",
       "\n",
       "    .dataframe thead th {\n",
       "        text-align: right;\n",
       "    }\n",
       "</style>\n",
       "<table border=\"1\" class=\"dataframe\">\n",
       "  <thead>\n",
       "    <tr style=\"text-align: right;\">\n",
       "      <th></th>\n",
       "      <th>Stage</th>\n",
       "      <th>Date</th>\n",
       "      <th>Team 1</th>\n",
       "      <th>Team 2</th>\n",
       "      <th>FT</th>\n",
       "      <th>HT</th>\n",
       "      <th>ft_t1_gls</th>\n",
       "      <th>ft_t2_gls</th>\n",
       "      <th>ht_t1_gls</th>\n",
       "      <th>ht_t2_gls</th>\n",
       "    </tr>\n",
       "  </thead>\n",
       "  <tbody>\n",
       "    <tr>\n",
       "      <th>1</th>\n",
       "      <td>2</td>\n",
       "      <td>2008-07-15</td>\n",
       "      <td>Anorthosis Famagusta</td>\n",
       "      <td>Pyunik</td>\n",
       "      <td>1-0</td>\n",
       "      <td>0-0</td>\n",
       "      <td>1</td>\n",
       "      <td>0</td>\n",
       "      <td>0</td>\n",
       "      <td>0</td>\n",
       "    </tr>\n",
       "    <tr>\n",
       "      <th>2</th>\n",
       "      <td>2</td>\n",
       "      <td>2008-07-15</td>\n",
       "      <td>BATE Borisov</td>\n",
       "      <td>Valur Reykjavik</td>\n",
       "      <td>2-0</td>\n",
       "      <td>0-0</td>\n",
       "      <td>2</td>\n",
       "      <td>0</td>\n",
       "      <td>0</td>\n",
       "      <td>0</td>\n",
       "    </tr>\n",
       "    <tr>\n",
       "      <th>3</th>\n",
       "      <td>2</td>\n",
       "      <td>2008-07-15</td>\n",
       "      <td>Tampere United</td>\n",
       "      <td>Buducnost</td>\n",
       "      <td>2-1</td>\n",
       "      <td>0-0</td>\n",
       "      <td>2</td>\n",
       "      <td>1</td>\n",
       "      <td>0</td>\n",
       "      <td>0</td>\n",
       "    </tr>\n",
       "    <tr>\n",
       "      <th>4</th>\n",
       "      <td>2</td>\n",
       "      <td>2008-07-15</td>\n",
       "      <td>Dinamo Tirana</td>\n",
       "      <td>FK Modrica</td>\n",
       "      <td>0-2</td>\n",
       "      <td>0-0</td>\n",
       "      <td>0</td>\n",
       "      <td>2</td>\n",
       "      <td>0</td>\n",
       "      <td>0</td>\n",
       "    </tr>\n",
       "  </tbody>\n",
       "</table>\n",
       "</div>"
      ],
      "text/plain": [
       "   Stage       Date                Team 1           Team 2   FT   HT   \n",
       "1      2 2008-07-15  Anorthosis Famagusta           Pyunik  1-0  0-0  \\\n",
       "2      2 2008-07-15          BATE Borisov  Valur Reykjavik  2-0  0-0   \n",
       "3      2 2008-07-15        Tampere United        Buducnost  2-1  0-0   \n",
       "4      2 2008-07-15         Dinamo Tirana       FK Modrica  0-2  0-0   \n",
       "\n",
       "  ft_t1_gls ft_t2_gls  ht_t1_gls  ht_t2_gls  \n",
       "1         1         0          0          0  \n",
       "2         2         0          0          0  \n",
       "3         2         1          0          0  \n",
       "4         0         2          0          0  "
      ]
     },
     "execution_count": 131,
     "metadata": {},
     "output_type": "execute_result"
    }
   ],
   "source": [
    "# Look at results\n",
    "df[1:5]"
   ]
  },
  {
   "attachments": {},
   "cell_type": "markdown",
   "metadata": {},
   "source": [
    "## Look At Results"
   ]
  },
  {
   "cell_type": "code",
   "execution_count": 132,
   "metadata": {},
   "outputs": [
    {
     "data": {
      "text/html": [
       "<div>\n",
       "<style scoped>\n",
       "    .dataframe tbody tr th:only-of-type {\n",
       "        vertical-align: middle;\n",
       "    }\n",
       "\n",
       "    .dataframe tbody tr th {\n",
       "        vertical-align: top;\n",
       "    }\n",
       "\n",
       "    .dataframe thead th {\n",
       "        text-align: right;\n",
       "    }\n",
       "</style>\n",
       "<table border=\"1\" class=\"dataframe\">\n",
       "  <thead>\n",
       "    <tr style=\"text-align: right;\">\n",
       "      <th></th>\n",
       "      <th>Stage</th>\n",
       "      <th>Date</th>\n",
       "      <th>Team 1</th>\n",
       "      <th>Team 2</th>\n",
       "      <th>FT</th>\n",
       "      <th>HT</th>\n",
       "      <th>ft_t1_gls</th>\n",
       "      <th>ft_t2_gls</th>\n",
       "      <th>ht_t1_gls</th>\n",
       "      <th>ht_t2_gls</th>\n",
       "    </tr>\n",
       "  </thead>\n",
       "  <tbody>\n",
       "    <tr>\n",
       "      <th>0</th>\n",
       "      <td>2</td>\n",
       "      <td>2008-07-15</td>\n",
       "      <td>Inter Baku PIK</td>\n",
       "      <td>Rabotnicki</td>\n",
       "      <td>0-0</td>\n",
       "      <td>0-0</td>\n",
       "      <td>0</td>\n",
       "      <td>0</td>\n",
       "      <td>0</td>\n",
       "      <td>0</td>\n",
       "    </tr>\n",
       "    <tr>\n",
       "      <th>1</th>\n",
       "      <td>2</td>\n",
       "      <td>2008-07-15</td>\n",
       "      <td>Anorthosis Famagusta</td>\n",
       "      <td>Pyunik</td>\n",
       "      <td>1-0</td>\n",
       "      <td>0-0</td>\n",
       "      <td>1</td>\n",
       "      <td>0</td>\n",
       "      <td>0</td>\n",
       "      <td>0</td>\n",
       "    </tr>\n",
       "  </tbody>\n",
       "</table>\n",
       "</div>"
      ],
      "text/plain": [
       "   Stage       Date                Team 1      Team 2   FT   HT ft_t1_gls   \n",
       "0      2 2008-07-15        Inter Baku PIK  Rabotnicki  0-0  0-0         0  \\\n",
       "1      2 2008-07-15  Anorthosis Famagusta      Pyunik  1-0  0-0         1   \n",
       "\n",
       "  ft_t2_gls  ht_t1_gls  ht_t2_gls  \n",
       "0         0          0          0  \n",
       "1         0          0          0  "
      ]
     },
     "execution_count": 132,
     "metadata": {},
     "output_type": "execute_result"
    }
   ],
   "source": [
    "# Print DF \n",
    "df.head(2)"
   ]
  },
  {
   "cell_type": "code",
   "execution_count": 133,
   "metadata": {},
   "outputs": [],
   "source": [
    "# Save out \n",
    "df = df.drop(['FT', 'HT'], axis = 1)\n",
    "df.to_csv('champs_cleaned.csv', index = False)"
   ]
  },
  {
   "attachments": {},
   "cell_type": "markdown",
   "metadata": {},
   "source": [
    "# Process Team Data "
   ]
  },
  {
   "cell_type": "code",
   "execution_count": 134,
   "metadata": {},
   "outputs": [],
   "source": [
    "# Pull in Team data \n",
    "team = pd.read_csv('team_data.csv')"
   ]
  },
  {
   "cell_type": "code",
   "execution_count": 135,
   "metadata": {},
   "outputs": [],
   "source": [
    "# Drop NAs\n",
    "team = team.dropna(axis = 1)\n",
    "# rename squad ]\n",
    "team.rename(columns = {'Squad':'Team'}, inplace=True)"
   ]
  },
  {
   "cell_type": "code",
   "execution_count": 136,
   "metadata": {},
   "outputs": [],
   "source": [
    "# Join the data \n",
    "team.to_csv('team_data_cleaned.csv', index = False)"
   ]
  }
 ],
 "metadata": {
  "kernelspec": {
   "display_name": "Python 3",
   "language": "python",
   "name": "python3"
  },
  "language_info": {
   "codemirror_mode": {
    "name": "ipython",
    "version": 3
   },
   "file_extension": ".py",
   "mimetype": "text/x-python",
   "name": "python",
   "nbconvert_exporter": "python",
   "pygments_lexer": "ipython3",
   "version": "3.10.0"
  },
  "orig_nbformat": 4
 },
 "nbformat": 4,
 "nbformat_minor": 2
}
